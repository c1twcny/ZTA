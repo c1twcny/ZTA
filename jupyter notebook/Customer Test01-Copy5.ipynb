{
 "cells": [
  {
   "cell_type": "markdown",
   "id": "fad5997e",
   "metadata": {},
   "source": [
    "# ML testing on yoochoose dataset\n",
    "## Date: April 2023\n",
    "## Author: Ta-Wei\n",
    "## Version: 0.1"
   ]
  },
  {
   "cell_type": "code",
   "execution_count": 1,
   "id": "f16d89ea",
   "metadata": {},
   "outputs": [],
   "source": [
    "%matplotlib inline\n",
    "\n",
    "import numpy as np\n",
    "import scipy as sp\n",
    "import pandas as pd\n",
    "import random\n",
    "import itertools\n",
    "\n",
    "from matplotlib import pyplot as plt\n",
    "from datetime import datetime\n",
    "\n",
    "import tensorflow as tf\n",
    "import torch\n",
    "import sklearn\n",
    "import keras\n",
    "from sklearn.model_selection import train_test_split\n",
    "from sklearn.preprocessing import StandardScaler\n",
    "from sklearn.linear_model import LogisticRegression\n",
    "from sklearn.svm import SVC\n",
    "from sklearn.svm import NuSVC\n",
    "from sklearn.neural_network import MLPClassifier\n",
    "\n",
    "from libsvm.svmutil import *\n",
    "\n",
    "from sklearn.preprocessing import MinMaxScaler\n",
    "from sklearn.metrics import accuracy_score\n",
    "\n",
    "from sklearn import datasets\n",
    "\n",
    "import networkx as nx\n"
   ]
  },
  {
   "cell_type": "code",
   "execution_count": 2,
   "id": "c345006d",
   "metadata": {},
   "outputs": [],
   "source": [
    "# Original data sets are located at:\n",
    "# https://www.kaggle.com/datasets/chadgostopp/recsys-challenge-2015\n",
    "# I will use yoochoose-buys.dat and yoochoose-test.dat to test graph creation and GCN ML build-test pipeline\n",
    "#\n",
    "# The raw data and jupyter notebook can be found at: C:/Users/c1twc/P_CCB\n",
    "# To upload to Github, you need to copy/paste jupyter notebook to OneDrive location:\n",
    "# Ta-Wei - Personal/Documents/GitHub/ZTA\n",
    "\n",
    "#buy = pd.read_csv(\"yoochoose-buys.csv\")\n",
    "#test = pd.read_csv(\"yoochoose-test.csv\")\n",
    "test = pd.read_csv('yoochoose-test.dat', header=None, names=['sessionId','timeStamp','itemId','category'], dtype={'sessionId':'int64', 'timeStamp':'object','itemId':'int64','category':'string'})\n",
    "buy = pd.read_csv(\"yoochoose-buys.dat\", header=None, names=['sessionId', 'timeStamp', 'itemId', 'price','quantity'])\n",
    "click = pd.read_csv('yoochoose-clicks.dat', header=None, names=['sessionId','timeStamp','itemId','category'], dtype={'sessionId':'int64','timeStamp':'object','itemId':'int64','category':'string'})"
   ]
  },
  {
   "cell_type": "code",
   "execution_count": 3,
   "id": "b0b60ec6",
   "metadata": {},
   "outputs": [],
   "source": [
    "# reduce the size of dataframe to 1/100 for easier processing\n",
    "buy_small = buy[0:11500]\n",
    "click_small = click[0:330000]\n",
    "buy_unique = list(set(buy_small['sessionId']))\n",
    "click_unique = list(set(click_small['sessionId']))"
   ]
  },
  {
   "cell_type": "code",
   "execution_count": 4,
   "id": "3aa8eb7f",
   "metadata": {},
   "outputs": [],
   "source": [
    "# Pre-processing\n",
    "# Split the raw timeStamp, e.g. 2014-04-06T18:44:58.314Z, into two new columns: 'date' and 'time'\n",
    "\n",
    "date_lst = list(pd.to_datetime(click_small['timeStamp']).dt.date)\n",
    "time = list(pd.to_datetime(click_small['timeStamp']).dt.time )\n",
    "time_lst = [str(t) for t in time] # convert the datetime object to string with HH:MM:SS format\n",
    "#click_small.insert(4, 'date', date_lst)\n",
    "#click_small.insert(5, 'time', time_lst)\n",
    "\n",
    "new_cols1 = {'date':date_lst,'time':time_lst}\n",
    "click_small = click_small.assign(**new_cols1)\n",
    "\n",
    "# Pre-processing\n",
    "# Split the 'date' column into 3 new columns: 'year', 'month', and 'day'\n",
    "\n",
    "year_lst = list(pd.to_datetime(click_small['date']).dt.year)\n",
    "month_lst = list(pd.to_datetime(click_small['date']).dt.month)\n",
    "day_lst = list(pd.to_datetime(click_small['date']).dt.day)\n",
    "\n",
    "#click_small.insert(6, 'year', year_lst)\n",
    "#click_small.insert(7, 'month', month_lst)\n",
    "#click_small.insert(8, 'day', day_lst)\n",
    "\n",
    "new_cols2 = {'year':year_lst, 'month':month_lst,'day':day_lst}\n",
    "click_small = click_small.assign(**new_cols2)\n",
    "\n",
    "# Take the 'time' string column containing HH:MM:SS string data, then split it into 3 columns: 'hour','minute',\n",
    "# and 'second'\n",
    "click_small[['hour','minute','second']] = click_small['time'].str.split(':', expand=True)\n",
    "\n",
    "day_of_week_lst = list(pd.to_datetime(click_small['date']).dt.day_name())\n",
    "click_small.insert(12, 'day_of_week', day_of_week_lst, True)\n",
    "\n",
    "# Convert day_of_week from string to numbers\n",
    "click_small.loc[click_small['day_of_week'] == 'Sunday', 'dow'] = 7\n",
    "click_small.loc[click_small['day_of_week'] == 'Monday', 'dow'] = 1\n",
    "click_small.loc[click_small['day_of_week'] == 'Tuesday', 'dow'] = 2\n",
    "click_small.loc[click_small['day_of_week'] == 'Wednesday', 'dow'] = 3\n",
    "click_small.loc[click_small['day_of_week'] == 'Thursday', 'dow'] = 4\n",
    "click_small.loc[click_small['day_of_week'] == 'Friday', 'dow'] = 5\n",
    "click_small.loc[click_small['day_of_week'] == 'Saturday', 'dow'] = 6\n",
    "\n",
    "# Convert the column data type from float to int\n",
    "click_small = click_small.astype({'dow':'int'})\n",
    "\n",
    "# Drop redundant columns \n",
    "click_small = click_small.drop(['timeStamp','date','time'], axis=1)"
   ]
  },
  {
   "cell_type": "code",
   "execution_count": 5,
   "id": "b0dbfc78",
   "metadata": {},
   "outputs": [],
   "source": [
    "# Create a 'purchase' column and assign '0' or '1' to each 'sessionId'\n",
    "# '0': sessionId doesn't generate 'buy'\n",
    "# '1': sessionId generates a 'buy' action\n",
    "# \n",
    "# There are several way to populate the results for 'purchase' column; the following way is the fastest one\n",
    "#\n",
    "click_small['purchase'] = click_small['sessionId'].isin(buy_unique).astype(int)\n",
    "\n",
    "#\n",
    "# using Python list comprehensive is pretty slow; don't use it if the size of data is large\n",
    "#\n",
    "#purchase_lst = [1 if c in buy_unique else 0 for c in click_small['sessionId']]\n",
    "#click_small.insert(4, \"purchase\", purchase_lst, True)"
   ]
  },
  {
   "cell_type": "markdown",
   "id": "4d063c68",
   "metadata": {},
   "source": [
    "## Model: Logistic Regression\n",
    "### (1) classification problem using supervised ML\n",
    "### (2) feature vector: [itemId, category, month, day, hour, minute, dow]\n",
    "### (3) prediction: [purchase]"
   ]
  },
  {
   "cell_type": "code",
   "execution_count": 6,
   "id": "d683b179",
   "metadata": {},
   "outputs": [],
   "source": [
    "# X: Feature set\n",
    "# y: Target set\n",
    "\n",
    "# Test feature set #1:\n",
    "#features = click_small[['itemId','category','month','day','hour','minute','dow']]\n",
    "\n",
    "# Test feature set #2:\n",
    "features = click_small[['itemId','category','day','hour','minute','dow']]\n",
    "targets = click_small[['purchase']]"
   ]
  },
  {
   "cell_type": "code",
   "execution_count": 7,
   "id": "4eddbdb7",
   "metadata": {},
   "outputs": [],
   "source": [
    "# Split the training and testing datasets into 80% vs. 20% ration, with stratification and scaling applied\n",
    "#\n",
    "features_train, features_test, targets_train, targets_test = train_test_split(features, targets, test_size=0.2, random_state=42, stratify=targets)\n",
    "\n",
    "#features_ndarray_train = features_train.to_numpy()\n",
    "\n",
    "sc = StandardScaler()\n",
    "sc.fit(features_train)\n",
    "#sc.fit(feature_ndarray_train)\n",
    "\n",
    "features_train_std = sc.transform(features_train)\n",
    "#features_train_std = sc.transform(features_ndarray_train)\n",
    "features_test_std = sc.transform(features_test)"
   ]
  },
  {
   "cell_type": "code",
   "execution_count": 8,
   "id": "49598b69",
   "metadata": {},
   "outputs": [],
   "source": [
    "#Convert Pandas DataFrame to an Numpy 1d array\n",
    "#labels_lst_train = list(labels_train['purchase'])\n",
    "#\n",
    "targets_lst_train = targets_train['purchase'].values.flatten()\n",
    "targets_lst_test  = targets_test['purchase'].values.flatten()"
   ]
  },
  {
   "cell_type": "code",
   "execution_count": 9,
   "id": "88bb5673",
   "metadata": {},
   "outputs": [],
   "source": [
    "weights, params = [], []\n",
    "for c in np.arange(-5, 5):\n",
    "#    lr = LogisticRegression(C=10.**c, solver='lbfgs', multi_class='ovr')\n",
    "    lr = LogisticRegression(C=10.**c, solver='liblinear', multi_class='ovr') # highly optimized solver\n",
    "    lr.fit(features_train_std, targets_lst_train)\n",
    "    weights.append(lr.coef_[0])\n",
    "    params.append(10.**c)\n",
    "    \n",
    "weights = np.array(weights)"
   ]
  },
  {
   "cell_type": "code",
   "execution_count": 10,
   "id": "9b3dce0b",
   "metadata": {},
   "outputs": [],
   "source": [
    "# Need to import the following library:\n",
    "# from sklearn.model_selection import train_test_split\n",
    "# \n",
    "# Reference:\n",
    "# https://sparkbyexamples.com/pandas/pandas-create-test-and-train-samples-from-dataframe/\n",
    "#\n",
    "Click_train, Click_test = train_test_split(click_small, test_size=0.2, random_state=42)\n",
    "Buy_train, Buy_test = train_test_split(buy_small, test_size=0.2, random_state=42)"
   ]
  },
  {
   "cell_type": "markdown",
   "id": "d0eae507",
   "metadata": {},
   "source": [
    "## Model: SVC"
   ]
  },
  {
   "cell_type": "code",
   "execution_count": 11,
   "id": "c07213ac",
   "metadata": {},
   "outputs": [
    {
     "data": {
      "text/html": [
       "<style>#sk-container-id-1 {color: black;background-color: white;}#sk-container-id-1 pre{padding: 0;}#sk-container-id-1 div.sk-toggleable {background-color: white;}#sk-container-id-1 label.sk-toggleable__label {cursor: pointer;display: block;width: 100%;margin-bottom: 0;padding: 0.3em;box-sizing: border-box;text-align: center;}#sk-container-id-1 label.sk-toggleable__label-arrow:before {content: \"▸\";float: left;margin-right: 0.25em;color: #696969;}#sk-container-id-1 label.sk-toggleable__label-arrow:hover:before {color: black;}#sk-container-id-1 div.sk-estimator:hover label.sk-toggleable__label-arrow:before {color: black;}#sk-container-id-1 div.sk-toggleable__content {max-height: 0;max-width: 0;overflow: hidden;text-align: left;background-color: #f0f8ff;}#sk-container-id-1 div.sk-toggleable__content pre {margin: 0.2em;color: black;border-radius: 0.25em;background-color: #f0f8ff;}#sk-container-id-1 input.sk-toggleable__control:checked~div.sk-toggleable__content {max-height: 200px;max-width: 100%;overflow: auto;}#sk-container-id-1 input.sk-toggleable__control:checked~label.sk-toggleable__label-arrow:before {content: \"▾\";}#sk-container-id-1 div.sk-estimator input.sk-toggleable__control:checked~label.sk-toggleable__label {background-color: #d4ebff;}#sk-container-id-1 div.sk-label input.sk-toggleable__control:checked~label.sk-toggleable__label {background-color: #d4ebff;}#sk-container-id-1 input.sk-hidden--visually {border: 0;clip: rect(1px 1px 1px 1px);clip: rect(1px, 1px, 1px, 1px);height: 1px;margin: -1px;overflow: hidden;padding: 0;position: absolute;width: 1px;}#sk-container-id-1 div.sk-estimator {font-family: monospace;background-color: #f0f8ff;border: 1px dotted black;border-radius: 0.25em;box-sizing: border-box;margin-bottom: 0.5em;}#sk-container-id-1 div.sk-estimator:hover {background-color: #d4ebff;}#sk-container-id-1 div.sk-parallel-item::after {content: \"\";width: 100%;border-bottom: 1px solid gray;flex-grow: 1;}#sk-container-id-1 div.sk-label:hover label.sk-toggleable__label {background-color: #d4ebff;}#sk-container-id-1 div.sk-serial::before {content: \"\";position: absolute;border-left: 1px solid gray;box-sizing: border-box;top: 0;bottom: 0;left: 50%;z-index: 0;}#sk-container-id-1 div.sk-serial {display: flex;flex-direction: column;align-items: center;background-color: white;padding-right: 0.2em;padding-left: 0.2em;position: relative;}#sk-container-id-1 div.sk-item {position: relative;z-index: 1;}#sk-container-id-1 div.sk-parallel {display: flex;align-items: stretch;justify-content: center;background-color: white;position: relative;}#sk-container-id-1 div.sk-item::before, #sk-container-id-1 div.sk-parallel-item::before {content: \"\";position: absolute;border-left: 1px solid gray;box-sizing: border-box;top: 0;bottom: 0;left: 50%;z-index: -1;}#sk-container-id-1 div.sk-parallel-item {display: flex;flex-direction: column;z-index: 1;position: relative;background-color: white;}#sk-container-id-1 div.sk-parallel-item:first-child::after {align-self: flex-end;width: 50%;}#sk-container-id-1 div.sk-parallel-item:last-child::after {align-self: flex-start;width: 50%;}#sk-container-id-1 div.sk-parallel-item:only-child::after {width: 0;}#sk-container-id-1 div.sk-dashed-wrapped {border: 1px dashed gray;margin: 0 0.4em 0.5em 0.4em;box-sizing: border-box;padding-bottom: 0.4em;background-color: white;}#sk-container-id-1 div.sk-label label {font-family: monospace;font-weight: bold;display: inline-block;line-height: 1.2em;}#sk-container-id-1 div.sk-label-container {text-align: center;}#sk-container-id-1 div.sk-container {/* jupyter's `normalize.less` sets `[hidden] { display: none; }` but bootstrap.min.css set `[hidden] { display: none !important; }` so we also need the `!important` here to be able to override the default hidden behavior on the sphinx rendered scikit-learn.org. See: https://github.com/scikit-learn/scikit-learn/issues/21755 */display: inline-block !important;position: relative;}#sk-container-id-1 div.sk-text-repr-fallback {display: none;}</style><div id=\"sk-container-id-1\" class=\"sk-top-container\"><div class=\"sk-text-repr-fallback\"><pre>SVC(kernel=&#x27;linear&#x27;, random_state=42)</pre><b>In a Jupyter environment, please rerun this cell to show the HTML representation or trust the notebook. <br />On GitHub, the HTML representation is unable to render, please try loading this page with nbviewer.org.</b></div><div class=\"sk-container\" hidden><div class=\"sk-item\"><div class=\"sk-estimator sk-toggleable\"><input class=\"sk-toggleable__control sk-hidden--visually\" id=\"sk-estimator-id-1\" type=\"checkbox\" checked><label for=\"sk-estimator-id-1\" class=\"sk-toggleable__label sk-toggleable__label-arrow\">SVC</label><div class=\"sk-toggleable__content\"><pre>SVC(kernel=&#x27;linear&#x27;, random_state=42)</pre></div></div></div></div></div>"
      ],
      "text/plain": [
       "SVC(kernel='linear', random_state=42)"
      ]
     },
     "execution_count": 11,
     "metadata": {},
     "output_type": "execute_result"
    }
   ],
   "source": [
    "svm = SVC(kernel='linear', C=1.0, random_state=42)\n",
    "svm.fit(features_train_std, targets_lst_train)"
   ]
  },
  {
   "cell_type": "code",
   "execution_count": 12,
   "id": "3c30fcef",
   "metadata": {},
   "outputs": [
    {
     "name": "stdout",
     "output_type": "stream",
     "text": [
      "Accuracy on test data set: 0.968\n"
     ]
    }
   ],
   "source": [
    "svm_acc = svm.score(features_test_std, targets_test)\n",
    "print(f'Accuracy on test data set: {svm_acc:.3f}')"
   ]
  },
  {
   "cell_type": "code",
   "execution_count": 13,
   "id": "4395681d",
   "metadata": {},
   "outputs": [
    {
     "data": {
      "text/html": [
       "<style>#sk-container-id-2 {color: black;background-color: white;}#sk-container-id-2 pre{padding: 0;}#sk-container-id-2 div.sk-toggleable {background-color: white;}#sk-container-id-2 label.sk-toggleable__label {cursor: pointer;display: block;width: 100%;margin-bottom: 0;padding: 0.3em;box-sizing: border-box;text-align: center;}#sk-container-id-2 label.sk-toggleable__label-arrow:before {content: \"▸\";float: left;margin-right: 0.25em;color: #696969;}#sk-container-id-2 label.sk-toggleable__label-arrow:hover:before {color: black;}#sk-container-id-2 div.sk-estimator:hover label.sk-toggleable__label-arrow:before {color: black;}#sk-container-id-2 div.sk-toggleable__content {max-height: 0;max-width: 0;overflow: hidden;text-align: left;background-color: #f0f8ff;}#sk-container-id-2 div.sk-toggleable__content pre {margin: 0.2em;color: black;border-radius: 0.25em;background-color: #f0f8ff;}#sk-container-id-2 input.sk-toggleable__control:checked~div.sk-toggleable__content {max-height: 200px;max-width: 100%;overflow: auto;}#sk-container-id-2 input.sk-toggleable__control:checked~label.sk-toggleable__label-arrow:before {content: \"▾\";}#sk-container-id-2 div.sk-estimator input.sk-toggleable__control:checked~label.sk-toggleable__label {background-color: #d4ebff;}#sk-container-id-2 div.sk-label input.sk-toggleable__control:checked~label.sk-toggleable__label {background-color: #d4ebff;}#sk-container-id-2 input.sk-hidden--visually {border: 0;clip: rect(1px 1px 1px 1px);clip: rect(1px, 1px, 1px, 1px);height: 1px;margin: -1px;overflow: hidden;padding: 0;position: absolute;width: 1px;}#sk-container-id-2 div.sk-estimator {font-family: monospace;background-color: #f0f8ff;border: 1px dotted black;border-radius: 0.25em;box-sizing: border-box;margin-bottom: 0.5em;}#sk-container-id-2 div.sk-estimator:hover {background-color: #d4ebff;}#sk-container-id-2 div.sk-parallel-item::after {content: \"\";width: 100%;border-bottom: 1px solid gray;flex-grow: 1;}#sk-container-id-2 div.sk-label:hover label.sk-toggleable__label {background-color: #d4ebff;}#sk-container-id-2 div.sk-serial::before {content: \"\";position: absolute;border-left: 1px solid gray;box-sizing: border-box;top: 0;bottom: 0;left: 50%;z-index: 0;}#sk-container-id-2 div.sk-serial {display: flex;flex-direction: column;align-items: center;background-color: white;padding-right: 0.2em;padding-left: 0.2em;position: relative;}#sk-container-id-2 div.sk-item {position: relative;z-index: 1;}#sk-container-id-2 div.sk-parallel {display: flex;align-items: stretch;justify-content: center;background-color: white;position: relative;}#sk-container-id-2 div.sk-item::before, #sk-container-id-2 div.sk-parallel-item::before {content: \"\";position: absolute;border-left: 1px solid gray;box-sizing: border-box;top: 0;bottom: 0;left: 50%;z-index: -1;}#sk-container-id-2 div.sk-parallel-item {display: flex;flex-direction: column;z-index: 1;position: relative;background-color: white;}#sk-container-id-2 div.sk-parallel-item:first-child::after {align-self: flex-end;width: 50%;}#sk-container-id-2 div.sk-parallel-item:last-child::after {align-self: flex-start;width: 50%;}#sk-container-id-2 div.sk-parallel-item:only-child::after {width: 0;}#sk-container-id-2 div.sk-dashed-wrapped {border: 1px dashed gray;margin: 0 0.4em 0.5em 0.4em;box-sizing: border-box;padding-bottom: 0.4em;background-color: white;}#sk-container-id-2 div.sk-label label {font-family: monospace;font-weight: bold;display: inline-block;line-height: 1.2em;}#sk-container-id-2 div.sk-label-container {text-align: center;}#sk-container-id-2 div.sk-container {/* jupyter's `normalize.less` sets `[hidden] { display: none; }` but bootstrap.min.css set `[hidden] { display: none !important; }` so we also need the `!important` here to be able to override the default hidden behavior on the sphinx rendered scikit-learn.org. See: https://github.com/scikit-learn/scikit-learn/issues/21755 */display: inline-block !important;position: relative;}#sk-container-id-2 div.sk-text-repr-fallback {display: none;}</style><div id=\"sk-container-id-2\" class=\"sk-top-container\"><div class=\"sk-text-repr-fallback\"><pre>NuSVC(nu=0.03)</pre><b>In a Jupyter environment, please rerun this cell to show the HTML representation or trust the notebook. <br />On GitHub, the HTML representation is unable to render, please try loading this page with nbviewer.org.</b></div><div class=\"sk-container\" hidden><div class=\"sk-item\"><div class=\"sk-estimator sk-toggleable\"><input class=\"sk-toggleable__control sk-hidden--visually\" id=\"sk-estimator-id-2\" type=\"checkbox\" checked><label for=\"sk-estimator-id-2\" class=\"sk-toggleable__label sk-toggleable__label-arrow\">NuSVC</label><div class=\"sk-toggleable__content\"><pre>NuSVC(nu=0.03)</pre></div></div></div></div></div>"
      ],
      "text/plain": [
       "NuSVC(nu=0.03)"
      ]
     },
     "execution_count": 13,
     "metadata": {},
     "output_type": "execute_result"
    }
   ],
   "source": [
    "nusvc = NuSVC(nu=0.03)\n",
    "nusvc.fit(features_train_std, targets_lst_train)"
   ]
  },
  {
   "cell_type": "code",
   "execution_count": 14,
   "id": "dc63f99d",
   "metadata": {},
   "outputs": [
    {
     "name": "stdout",
     "output_type": "stream",
     "text": [
      "Accuracy on test data set: 0.373\n"
     ]
    }
   ],
   "source": [
    "nusvc_acc = nusvc.score(features_test_std, targets_test)\n",
    "print(f'Accuracy on test data set: {nusvc_acc:.3f}')"
   ]
  },
  {
   "cell_type": "markdown",
   "id": "08e134ff",
   "metadata": {},
   "source": [
    "## Model:Multi-layer Perceptron (MLP)"
   ]
  },
  {
   "cell_type": "code",
   "execution_count": 15,
   "id": "6426de47",
   "metadata": {},
   "outputs": [
    {
     "data": {
      "text/html": [
       "<style>#sk-container-id-3 {color: black;background-color: white;}#sk-container-id-3 pre{padding: 0;}#sk-container-id-3 div.sk-toggleable {background-color: white;}#sk-container-id-3 label.sk-toggleable__label {cursor: pointer;display: block;width: 100%;margin-bottom: 0;padding: 0.3em;box-sizing: border-box;text-align: center;}#sk-container-id-3 label.sk-toggleable__label-arrow:before {content: \"▸\";float: left;margin-right: 0.25em;color: #696969;}#sk-container-id-3 label.sk-toggleable__label-arrow:hover:before {color: black;}#sk-container-id-3 div.sk-estimator:hover label.sk-toggleable__label-arrow:before {color: black;}#sk-container-id-3 div.sk-toggleable__content {max-height: 0;max-width: 0;overflow: hidden;text-align: left;background-color: #f0f8ff;}#sk-container-id-3 div.sk-toggleable__content pre {margin: 0.2em;color: black;border-radius: 0.25em;background-color: #f0f8ff;}#sk-container-id-3 input.sk-toggleable__control:checked~div.sk-toggleable__content {max-height: 200px;max-width: 100%;overflow: auto;}#sk-container-id-3 input.sk-toggleable__control:checked~label.sk-toggleable__label-arrow:before {content: \"▾\";}#sk-container-id-3 div.sk-estimator input.sk-toggleable__control:checked~label.sk-toggleable__label {background-color: #d4ebff;}#sk-container-id-3 div.sk-label input.sk-toggleable__control:checked~label.sk-toggleable__label {background-color: #d4ebff;}#sk-container-id-3 input.sk-hidden--visually {border: 0;clip: rect(1px 1px 1px 1px);clip: rect(1px, 1px, 1px, 1px);height: 1px;margin: -1px;overflow: hidden;padding: 0;position: absolute;width: 1px;}#sk-container-id-3 div.sk-estimator {font-family: monospace;background-color: #f0f8ff;border: 1px dotted black;border-radius: 0.25em;box-sizing: border-box;margin-bottom: 0.5em;}#sk-container-id-3 div.sk-estimator:hover {background-color: #d4ebff;}#sk-container-id-3 div.sk-parallel-item::after {content: \"\";width: 100%;border-bottom: 1px solid gray;flex-grow: 1;}#sk-container-id-3 div.sk-label:hover label.sk-toggleable__label {background-color: #d4ebff;}#sk-container-id-3 div.sk-serial::before {content: \"\";position: absolute;border-left: 1px solid gray;box-sizing: border-box;top: 0;bottom: 0;left: 50%;z-index: 0;}#sk-container-id-3 div.sk-serial {display: flex;flex-direction: column;align-items: center;background-color: white;padding-right: 0.2em;padding-left: 0.2em;position: relative;}#sk-container-id-3 div.sk-item {position: relative;z-index: 1;}#sk-container-id-3 div.sk-parallel {display: flex;align-items: stretch;justify-content: center;background-color: white;position: relative;}#sk-container-id-3 div.sk-item::before, #sk-container-id-3 div.sk-parallel-item::before {content: \"\";position: absolute;border-left: 1px solid gray;box-sizing: border-box;top: 0;bottom: 0;left: 50%;z-index: -1;}#sk-container-id-3 div.sk-parallel-item {display: flex;flex-direction: column;z-index: 1;position: relative;background-color: white;}#sk-container-id-3 div.sk-parallel-item:first-child::after {align-self: flex-end;width: 50%;}#sk-container-id-3 div.sk-parallel-item:last-child::after {align-self: flex-start;width: 50%;}#sk-container-id-3 div.sk-parallel-item:only-child::after {width: 0;}#sk-container-id-3 div.sk-dashed-wrapped {border: 1px dashed gray;margin: 0 0.4em 0.5em 0.4em;box-sizing: border-box;padding-bottom: 0.4em;background-color: white;}#sk-container-id-3 div.sk-label label {font-family: monospace;font-weight: bold;display: inline-block;line-height: 1.2em;}#sk-container-id-3 div.sk-label-container {text-align: center;}#sk-container-id-3 div.sk-container {/* jupyter's `normalize.less` sets `[hidden] { display: none; }` but bootstrap.min.css set `[hidden] { display: none !important; }` so we also need the `!important` here to be able to override the default hidden behavior on the sphinx rendered scikit-learn.org. See: https://github.com/scikit-learn/scikit-learn/issues/21755 */display: inline-block !important;position: relative;}#sk-container-id-3 div.sk-text-repr-fallback {display: none;}</style><div id=\"sk-container-id-3\" class=\"sk-top-container\"><div class=\"sk-text-repr-fallback\"><pre>MLPClassifier(alpha=1e-05, hidden_layer_sizes=(40, 2), random_state=42,\n",
       "              solver=&#x27;lbfgs&#x27;)</pre><b>In a Jupyter environment, please rerun this cell to show the HTML representation or trust the notebook. <br />On GitHub, the HTML representation is unable to render, please try loading this page with nbviewer.org.</b></div><div class=\"sk-container\" hidden><div class=\"sk-item\"><div class=\"sk-estimator sk-toggleable\"><input class=\"sk-toggleable__control sk-hidden--visually\" id=\"sk-estimator-id-3\" type=\"checkbox\" checked><label for=\"sk-estimator-id-3\" class=\"sk-toggleable__label sk-toggleable__label-arrow\">MLPClassifier</label><div class=\"sk-toggleable__content\"><pre>MLPClassifier(alpha=1e-05, hidden_layer_sizes=(40, 2), random_state=42,\n",
       "              solver=&#x27;lbfgs&#x27;)</pre></div></div></div></div></div>"
      ],
      "text/plain": [
       "MLPClassifier(alpha=1e-05, hidden_layer_sizes=(40, 2), random_state=42,\n",
       "              solver='lbfgs')"
      ]
     },
     "execution_count": 15,
     "metadata": {},
     "output_type": "execute_result"
    }
   ],
   "source": [
    "clf = MLPClassifier(solver='lbfgs', activation='relu', hidden_layer_sizes=(40, 2), alpha=1e-5, random_state=42)\n",
    "clf.fit(features_train_std, targets_lst_train)"
   ]
  },
  {
   "cell_type": "code",
   "execution_count": null,
   "id": "361f62b1",
   "metadata": {},
   "outputs": [],
   "source": [
    "clf_acc = clf.score(features_test_std, targets_test)\n",
    "print(f'Accuracy on test data set: {clf_acc:.3f}')"
   ]
  }
 ],
 "metadata": {
  "kernelspec": {
   "display_name": "Python 3 (ipykernel)",
   "language": "python",
   "name": "python3"
  },
  "language_info": {
   "codemirror_mode": {
    "name": "ipython",
    "version": 3
   },
   "file_extension": ".py",
   "mimetype": "text/x-python",
   "name": "python",
   "nbconvert_exporter": "python",
   "pygments_lexer": "ipython3",
   "version": "3.9.16"
  }
 },
 "nbformat": 4,
 "nbformat_minor": 5
}
